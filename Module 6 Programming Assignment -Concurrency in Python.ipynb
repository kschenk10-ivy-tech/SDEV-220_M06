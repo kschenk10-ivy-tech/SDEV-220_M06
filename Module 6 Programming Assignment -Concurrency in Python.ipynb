{
 "cells": [
  {
   "cell_type": "markdown",
   "id": "087a4f27",
   "metadata": {},
   "source": [
    "SDEV-220 | Module 6 \n",
    "\n",
    "# Programming Assignment -Concurrency in Python\n",
    "\n",
    "*Things to Do*: Chapters 11 and 16\n",
    "- [x] 13.1\n",
    "- [x] 13.2\n",
    "- [x] 13.3\n",
    "- [x] 15.1"
   ]
  },
  {
   "cell_type": "markdown",
   "id": "d4e16f68",
   "metadata": {},
   "source": [
    "13.1 Write the current date as a string to the text file today.txt."
   ]
  },
  {
   "cell_type": "code",
   "execution_count": 5,
   "id": "951ff800",
   "metadata": {},
   "outputs": [],
   "source": [
    "from datetime import datetime\n",
    "\n",
    "# Get the current date and time\n",
    "current_date = datetime.now().strftime(\"%Y-%m-%d %H:%M:%S\")\n",
    "\n",
    "# Write the current date to the file\n",
    "with open(\"today.txt\", \"w\") as file:\n",
    "    file.write(current_date)"
   ]
  },
  {
   "cell_type": "markdown",
   "id": "281a6c2b",
   "metadata": {},
   "source": [
    "13.2 Read the text file today.txt into the string today_string.\n"
   ]
  },
  {
   "cell_type": "code",
   "execution_count": 6,
   "id": "214b87e5",
   "metadata": {},
   "outputs": [
    {
     "name": "stdout",
     "output_type": "stream",
     "text": [
      "Today's date as a string: 2025-02-20 21:26:16\n"
     ]
    }
   ],
   "source": [
    "# Read the content of the file into a string\n",
    "with open(\"today.txt\", \"r\") as file:\n",
    "    today_string = file.read()\n",
    "\n",
    "print(\"Today's date as a string:\", today_string)"
   ]
  },
  {
   "cell_type": "markdown",
   "id": "6162357b",
   "metadata": {},
   "source": [
    "13.3 Parse the date from today_string."
   ]
  },
  {
   "cell_type": "code",
   "execution_count": 7,
   "id": "b865cb1a",
   "metadata": {},
   "outputs": [
    {
     "name": "stdout",
     "output_type": "stream",
     "text": [
      "Parsed date: 2025-02-20 21:26:16\n"
     ]
    }
   ],
   "source": [
    "from datetime import datetime\n",
    "\n",
    "# Parse the date from the string\n",
    "parsed_date = datetime.strptime(today_string, \"%Y-%m-%d %H:%M:%S\")\n",
    "\n",
    "print(\"Parsed date:\", parsed_date)"
   ]
  },
  {
   "cell_type": "markdown",
   "id": "24047031",
   "metadata": {},
   "source": [
    "15.1 Use multiprocessing to create three separate processes. Make each one wait a random number of seconds between zero and one, print the current time, and then exit."
   ]
  },
  {
   "cell_type": "code",
   "execution_count": 8,
   "id": "8ec51651",
   "metadata": {},
   "outputs": [
    {
     "name": "stdout",
     "output_type": "stream",
     "text": [
      "All processes have finished.\n"
     ]
    }
   ],
   "source": [
    "import multiprocessing\n",
    "import time\n",
    "import random\n",
    "from datetime import datetime\n",
    "\n",
    "def worker():\n",
    "    # Generate a random wait time between 0 and 1 second\n",
    "    wait_time = random.random()\n",
    "    time.sleep(wait_time)\n",
    "    \n",
    "    # Print the current time\n",
    "    current_time = datetime.now().strftime(\"%Y-%m-%d %H:%M:%S\")\n",
    "    print(f\"Process {multiprocessing.current_process().name} waited {wait_time:.2f} seconds and is printing the current time: {current_time}\")\n",
    "\n",
    "if __name__ == \"__main__\":\n",
    "    # Create three separate processes\n",
    "    processes = []\n",
    "    for i in range(3):\n",
    "        process = multiprocessing.Process(target=worker, name=f\"Process-{i+1}\")\n",
    "        processes.append(process)\n",
    "        process.start()\n",
    "    \n",
    "    # Wait for all processes to complete\n",
    "    for process in processes:\n",
    "        process.join()\n",
    "    \n",
    "    print(\"All processes have finished.\")"
   ]
  },
  {
   "cell_type": "markdown",
   "id": "c3b48aaa",
   "metadata": {},
   "source": [
    "**NOTES:**\n",
    "\n",
    "- 13.1: The current date and time are written to a file named today.txt in the format YYYY-MM-DD HH:MM:SS.\n",
    "\n",
    "- 13.2: The content of today.txt is read into the variable today_string.\n",
    "\n",
    "- 13.3: The string today_string is parsed back into a datetime object using strptime.\n",
    "\n",
    "- 15.1: Three separate processes are created using the multiprocessing module. Each process waits for a random amount of time (between 0 and 1 second), prints the current time, and then exits."
   ]
  }
 ],
 "metadata": {
  "kernelspec": {
   "display_name": "Python 3",
   "language": "python",
   "name": "python3"
  },
  "language_info": {
   "codemirror_mode": {
    "name": "ipython",
    "version": 3
   },
   "file_extension": ".py",
   "mimetype": "text/x-python",
   "name": "python",
   "nbconvert_exporter": "python",
   "pygments_lexer": "ipython3",
   "version": "3.13.2"
  }
 },
 "nbformat": 4,
 "nbformat_minor": 5
}
